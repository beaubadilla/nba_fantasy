{
 "cells": [
  {
   "cell_type": "code",
   "execution_count": null,
   "metadata": {},
   "outputs": [],
   "source": [
    "# Only use TOT rows for players that moved teams"
   ]
  },
  {
   "cell_type": "code",
   "execution_count": null,
   "metadata": {},
   "outputs": [],
   "source": [
    "# Resources\n",
    "# https://www.basketball-reference.com/leagues/NBA_2020_per_game.html\n",
    "# https://www.basketball-reference.com/leagues/NBA_2020_advanced.html"
   ]
  }
 ],
 "metadata": {
  "kernelspec": {
   "display_name": "nba_fantasy_12",
   "language": "python",
   "name": "python3"
  },
  "language_info": {
   "name": "python",
   "version": "3.12.0"
  }
 },
 "nbformat": 4,
 "nbformat_minor": 2
}

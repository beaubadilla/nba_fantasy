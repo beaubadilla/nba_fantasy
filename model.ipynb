{
 "cells": [
  {
   "cell_type": "code",
   "execution_count": null,
   "metadata": {},
   "outputs": [],
   "source": [
    "# Only use TOT rows for players that moved teams"
   ]
  },
  {
   "cell_type": "code",
   "execution_count": null,
   "metadata": {},
   "outputs": [],
   "source": [
    "# Resources\n",
    "# https://www.basketball-reference.com/leagues/NBA_2020_per_game.html\n",
    "# https://www.basketball-reference.com/leagues/NBA_2020_advanced.html"
   ]
  },
  {
   "cell_type": "markdown",
   "metadata": {},
   "source": [
    "For the first iteration, we will drop players based off games played (GP)/minutes per game (MPG). In the future, we should not drop these players because GP/MPG can have edge cases where a player dramatically changes their GP/MPG for different reasons that we currently do not track e.g. new coach."
   ]
  },
  {
   "cell_type": "code",
   "execution_count": null,
   "metadata": {},
   "outputs": [],
   "source": [
    "RANDOM_STATE = 30  # night night"
   ]
  },
  {
   "cell_type": "code",
   "execution_count": null,
   "metadata": {},
   "outputs": [],
   "source": [
    "# Import necessary libraries\n",
    "import numpy as np\n",
    "import pandas as pd\n",
    "from sklearn.model_selection import train_test_split, cross_val_score\n",
    "from sklearn.preprocessing import StandardScaler\n",
    "from xgboost import XGBRegressor\n",
    "from sklearn.metrics import mean_squared_error, r2_score"
   ]
  },
  {
   "cell_type": "code",
   "execution_count": null,
   "metadata": {},
   "outputs": [],
   "source": [
    "pd.set_option(\"display.max_rows\", None)\n",
    "pd.set_option(\"display.max_columns\", None)"
   ]
  },
  {
   "cell_type": "markdown",
   "metadata": {},
   "source": [
    "# Load Data"
   ]
  },
  {
   "cell_type": "code",
   "execution_count": null,
   "metadata": {},
   "outputs": [],
   "source": [
    "# Merge per-game and advanced-stats together\n",
    "per_game_data = pd.read_csv('data/2020_2021_all_players_per_game_stats.csv')\n",
    "advanced_stats_data = pd.read_csv('data/2020_2021_all_players_advanced_stats.csv')\n",
    "\n",
    "# Fix colliding features that represent different things\n",
    "# e.g.  minutes played (MP) in per-game data is essentially minutes played per game,\n",
    "#       opposed to advanced-stats representing total minutes played in the season\n",
    "# Applicable features: MP\n",
    "colliding_features = [\"MP\"]\n",
    "for col in colliding_features:\n",
    "    per_game_data = per_game_data.rename(columns={col: f\"{col}_pg\"})\n",
    "    advanced_stats_data = advanced_stats_data.rename(columns={col: f\"{col}_as\"})\n",
    "\n",
    "# Merge\n",
    "uniq_cols = list(per_game_data.columns.difference(advanced_stats_data.columns))\n",
    "uniq_cols.append(\"Player-additional\")  # add merge-on target\n",
    "merged = pd.merge(per_game_data[uniq_cols], advanced_stats_data, on=\"Player-additional\", how=\"outer\")\n",
    "print(merged.columns)\n",
    "print(merged.head())\n",
    "\n",
    "# Features that will be used to fit the model\n",
    "# cols = ['2P', '2P%', '2PA', '3P', '3P%', '3PA', 'AST', 'BLK', 'DRB', 'FG',\n",
    "#       'FG%', 'FGA', 'FT', 'FT%', 'FTA', 'GS', 'MP_pg', 'ORB', 'PF', 'PTS',\n",
    "#       'STL', 'TOV', 'TRB', 'eFG%', 'Player-additional', 'Rk', 'Player', 'Pos',\n",
    "#       'Age', 'Tm', 'G', 'MP_as', 'PER', 'TS%', '3PAr', 'FTr', 'ORB%', 'DRB%',\n",
    "#       'TRB%', 'AST%', 'STL%', 'BLK%', 'TOV%', 'USG%', 'Unnamed: 19', 'OWS',\n",
    "#       'DWS', 'WS', 'WS/48', 'Unnamed: 24', 'OBPM', 'DBPM', 'BPM', 'VORP']\n",
    "# Removed Player-additional, Rk, Player, Tm, and other null/empty cols\n",
    "cols_to_use = ['2P', '2P%', '2PA', '3P', '3P%', '3PA', 'AST', 'BLK', 'DRB', 'FG',\n",
    "               'FG%', 'FGA', 'FT', 'FT%', 'FTA', 'GS', 'MP_pg', 'ORB', 'PF', 'PTS',\n",
    "               'STL', 'TOV', 'TRB', 'eFG%', 'Pos',\n",
    "               'Age', 'G', 'MP_as', 'PER', 'TS%', '3PAr', 'FTr', 'ORB%', 'DRB%',\n",
    "               'TRB%', 'AST%', 'STL%', 'BLK%', 'TOV%', 'USG%', 'OWS',\n",
    "               'DWS', 'WS', 'WS/48', 'OBPM', 'DBPM', 'BPM', 'VORP']\n",
    "\n",
    "# TODO: drop players based off MP/GP threshold"
   ]
  },
  {
   "cell_type": "markdown",
   "metadata": {},
   "source": [
    "# Template for ML Pipeline"
   ]
  },
  {
   "cell_type": "code",
   "execution_count": null,
   "metadata": {},
   "outputs": [],
   "source": [
    "# Create dataframe containing only the columns/features to use\n",
    "...\n",
    "\n",
    "# Separate features and target variable\n",
    "X = data.drop('target_column_name', axis=1)  # Modify 'target_column_name' to your target column\n",
    "y = data['target_column_name']\n",
    "\n",
    "# Split the data into training and testing sets\n",
    "X_train, X_test, y_train, y_test = train_test_split(X, y, test_size=0.2, random_state=42)\n",
    "\n",
    "# Encode categorical cols\n",
    "...\n",
    "\n",
    "# Feature scaling (if necessary)\n",
    "scaler = StandardScaler()\n",
    "X_train_scaled = scaler.fit_transform(X_train)\n",
    "X_test_scaled = scaler.transform(X_test)\n",
    "\n",
    "# Initialize XGBoost regressor\n",
    "xgb = XGBRegressor(objective='reg:squarederror')  # You can adjust hyperparameters here\n",
    "\n",
    "# Fit the model on the training data\n",
    "xgb.fit(X_train_scaled, y_train)\n",
    "\n",
    "# Make predictions on the test set\n",
    "predictions = xgb.predict(X_test_scaled)\n",
    "\n",
    "# Evaluate the model\n",
    "mse = mean_squared_error(y_test, predictions)\n",
    "r2 = r2_score(y_test, predictions)\n",
    "\n",
    "print(f\"Mean Squared Error (MSE): {mse}\")\n",
    "print(f\"R-squared (R2): {r2}\")\n",
    "\n",
    "# Cross-validation\n",
    "# Define the model and perform cross-validation\n",
    "model = XGBRegressor(objective='reg:squarederror')\n",
    "cv_scores = cross_val_score(model, X, y, cv=5, scoring='neg_mean_squared_error')\n",
    "\n",
    "# Convert scores to positive values\n",
    "cv_scores = -cv_scores\n",
    "\n",
    "# Calculate mean and standard deviation of cross-validation scores\n",
    "mean_cv_score = np.mean(cv_scores)\n",
    "std_cv_score = np.std(cv_scores)\n",
    "\n",
    "print(f\"Mean Cross-Validation Score (MSE): {mean_cv_score}\")\n",
    "print(f\"Standard Deviation of Cross-Validation Score (MSE): {std_cv_score}\")\n"
   ]
  }
 ],
 "metadata": {
  "kernelspec": {
   "display_name": "nba_fantasy_12",
   "language": "python",
   "name": "python3"
  },
  "language_info": {
   "codemirror_mode": {
    "name": "ipython",
    "version": 3
   },
   "file_extension": ".py",
   "mimetype": "text/x-python",
   "name": "python",
   "nbconvert_exporter": "python",
   "pygments_lexer": "ipython3",
   "version": "3.12.0"
  }
 },
 "nbformat": 4,
 "nbformat_minor": 2
}

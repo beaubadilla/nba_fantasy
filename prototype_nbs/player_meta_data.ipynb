{
 "cells": [
  {
   "cell_type": "code",
   "execution_count": 3,
   "metadata": {},
   "outputs": [],
   "source": [
    "from bs4 import BeautifulSoup\n",
    "\n",
    "fp = \"file:///C:/Users/Beau/Desktop/NBA_Fantasy_ML/html_reference/player_meta_data/reference_1.html\"\n",
    "fp = \"C:/Users/Beau/Desktop/NBA_Fantasy_ML/html_reference/player_meta_data/reference_1.html\"\n",
    "with open(fp, encoding=\"utf8\") as f:\n",
    "    soup = BeautifulSoup(f)\n"
   ]
  },
  {
   "cell_type": "code",
   "execution_count": null,
   "metadata": {},
   "outputs": [],
   "source": [
    "meta_data_section = soup.find(id=\"meta\")\n",
    "meta_data_section"
   ]
  },
  {
   "cell_type": "code",
   "execution_count": 7,
   "metadata": {},
   "outputs": [
    {
     "data": {
      "text/plain": [
       "12"
      ]
     },
     "execution_count": 7,
     "metadata": {},
     "output_type": "execute_result"
    }
   ],
   "source": [
    "len(list(meta_data_section.find_all(\"p\")))"
   ]
  },
  {
   "cell_type": "code",
   "execution_count": 8,
   "metadata": {},
   "outputs": [],
   "source": [
    "meta_data_section_paragraphs = meta_data_section.find_all(\"p\")"
   ]
  },
  {
   "cell_type": "code",
   "execution_count": null,
   "metadata": {},
   "outputs": [],
   "source": [
    "# Attempt 1\n",
    "for paragraph in meta_data_section_paragraphs:\n",
    "    section_element = paragraph.find(\"strong\")\n",
    "    if not section_element:\n",
    "        continue\n",
    "    section = section_element.text.strip()\n",
    "    # section = section_element.get_text().strip()\n",
    "    print(f\"{section=}\")\n",
    "\n",
    "    # section_value = paragraph.contents[-1].replace(\"\\n\", \"\").strip()\n",
    "    # section_value = paragraph.contents\n",
    "    print(f\"{section_value=}\")\n",
    "    print()"
   ]
  },
  {
   "cell_type": "code",
   "execution_count": 46,
   "metadata": {},
   "outputs": [
    {
     "name": "stdout",
     "output_type": "stream",
     "text": [
      "section='Pronunciation', value='\\\\STEFF-in\\\\'\n",
      "\n",
      "section='Wardell Stephen Curry II\\n\\n\\n                    ▪\\n                    Twitter', value='stephencurry30'\n",
      "\n",
      "section='(Steph, Baby-Faced Assassin, Chef Curry, The Human Torch, Threezus)', value='(Steph, Baby-Faced Assassin, Chef Curry, The Human Torch, Threezus)'\n",
      "\n",
      "section='Position', value='Right'\n",
      "\n",
      "section='6-2,\\xa0185lb\\xa0(188cm,\\xa083kg)', value='6-2,\\xa0185lb\\xa0(188cm,\\xa083kg)'\n",
      "\n",
      "section='Born', value='35-348d)\\n\\n\\n                        in\\xa0Akron,\\xa0Ohio\\nus'\n",
      "\n",
      "section='Relatives', value='Brother\\xa0Seth\\xa0Curry;\\n                    Brother-in-law\\xa0Damion\\xa0Lee; Father\\xa0Dell\\xa0Curry'\n",
      "\n",
      "section='College', value='Davidson'\n",
      "\n",
      "section='High School', value='Charlotte Christian in Charlotte, North\\n                        Carolina'\n",
      "\n",
      "section='Draft', value='Golden State Warriors, 1st round (7th pick, 7th overall), 2009 NBA Draft'\n",
      "\n",
      "section='NBA Debut', value='October 28, 2009'\n",
      "\n",
      "section='Experience', value='14 years'\n",
      "\n"
     ]
    }
   ],
   "source": [
    "# Attempt 2\n",
    "for paragraph in meta_data_section_paragraphs:\n",
    "    text = paragraph.text\n",
    "    split = text.split(\":\")\n",
    "    section = split[0].strip()\n",
    "    value = split[-1].strip()\n",
    "    print(f\"{section=}, {value=}\")\n",
    "    print()"
   ]
  }
 ],
 "metadata": {
  "kernelspec": {
   "display_name": "nba_fantasy_12",
   "language": "python",
   "name": "python3"
  },
  "language_info": {
   "codemirror_mode": {
    "name": "ipython",
    "version": 3
   },
   "file_extension": ".py",
   "mimetype": "text/x-python",
   "name": "python",
   "nbconvert_exporter": "python",
   "pygments_lexer": "ipython3",
   "version": "3.12.1"
  }
 },
 "nbformat": 4,
 "nbformat_minor": 2
}

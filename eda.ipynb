{
 "cells": [
  {
   "cell_type": "code",
   "execution_count": null,
   "metadata": {},
   "outputs": [],
   "source": [
    "import pandas as pd\n",
    "import seaborn"
   ]
  },
  {
   "cell_type": "code",
   "execution_count": null,
   "metadata": {},
   "outputs": [],
   "source": [
    "pd.set_option(\"display.max_rows\", None)\n",
    "pd.set_option(\"display.max_columns\", None)"
   ]
  },
  {
   "cell_type": "code",
   "execution_count": null,
   "metadata": {},
   "outputs": [],
   "source": [
    "fan_score_weights = {\n",
    "    \"point\": 1.0,\n",
    "    \"rebound\": 1.2,\n",
    "    \"assist\": 1.5,\n",
    "    \"steal\": 3.0,\n",
    "    \"block\": 3.0,\n",
    "    \"turnover\": -1.0\n",
    "}"
   ]
  },
  {
   "cell_type": "code",
   "execution_count": null,
   "metadata": {},
   "outputs": [],
   "source": [
    "per_game_stats = pd.read_csv(\"data/2023_2024_all_players_per_game_stats_tentative.csv\")"
   ]
  },
  {
   "cell_type": "code",
   "execution_count": null,
   "metadata": {},
   "outputs": [],
   "source": [
    "per_game_stats['fan_points'] = (\n",
    "    (per_game_stats['PTS'] * fan_score_weights[\"point\"])\n",
    "    + (per_game_stats['TRB'] * fan_score_weights[\"rebound\"])\n",
    "    + (per_game_stats['AST'] * fan_score_weights[\"assist\"])\n",
    "    + (per_game_stats['STL'] * fan_score_weights[\"steal\"])\n",
    "    + (per_game_stats['BLK'] * fan_score_weights[\"block\"])\n",
    "    + (per_game_stats['TOV'] * fan_score_weights[\"turnover\"])\n",
    ")"
   ]
  },
  {
   "cell_type": "code",
   "execution_count": null,
   "metadata": {},
   "outputs": [],
   "source": [
    "per_game_stats[[\"Player\", \"fan_points\"]].sort_values(\"fan_points\", ascending=False).reset_index()"
   ]
  },
  {
   "cell_type": "code",
   "execution_count": null,
   "metadata": {},
   "outputs": [],
   "source": [
    "advanced_stats = pd.read_csv(\"2022_2023_all_players_advanced_stats.csv\")"
   ]
  },
  {
   "cell_type": "code",
   "execution_count": null,
   "metadata": {},
   "outputs": [],
   "source": [
    "advanced_stats"
   ]
  },
  {
   "cell_type": "code",
   "execution_count": null,
   "metadata": {},
   "outputs": [],
   "source": [
    "merged = pd.merge(per_game_stats, advanced_stats, on=\"Player\", how=\"outer\")\n",
    "\n",
    "# 12.15 is the 25th percentile of MPG\n",
    "merged = merged[(merged[\"G_x\"] >= 41) & (merged[\"MP_x\"] >= 18.8)]\n",
    "\n",
    "merged"
   ]
  },
  {
   "cell_type": "code",
   "execution_count": null,
   "metadata": {},
   "outputs": [],
   "source": [
    "seaborn.lmplot(x=\"USG%\", y=\"fan_points\", data=merged)"
   ]
  }
 ],
 "metadata": {
  "kernelspec": {
   "display_name": "nba_fantasy_12",
   "language": "python",
   "name": "python3"
  },
  "language_info": {
   "codemirror_mode": {
    "name": "ipython",
    "version": 3
   },
   "file_extension": ".py",
   "mimetype": "text/x-python",
   "name": "python",
   "nbconvert_exporter": "python",
   "pygments_lexer": "ipython3",
   "version": "3.12.0"
  }
 },
 "nbformat": 4,
 "nbformat_minor": 2
}

{
 "cells": [
  {
   "cell_type": "code",
   "execution_count": null,
   "metadata": {},
   "outputs": [],
   "source": [
    "import datetime\n",
    "import logging\n",
    "import requests\n",
    "import re\n",
    "from string import Template\n",
    "import time\n",
    "\n",
    "from bs4 import BeautifulSoup"
   ]
  },
  {
   "cell_type": "code",
   "execution_count": null,
   "metadata": {},
   "outputs": [],
   "source": [
    "# Dev imports\n",
    "import pprint"
   ]
  },
  {
   "cell_type": "code",
   "execution_count": null,
   "metadata": {},
   "outputs": [],
   "source": [
    "players = [\n",
    "    \"jokicni01\",\n",
    "    \"antetgi01\",\n",
    "    # \"embiijo01\",\n",
    "    # \"doncilu01\",\n",
    "    # \"jamesle01\",\n",
    "    # \"duranke01\",\n",
    "    # \"murrade01\",\n",
    "    # \"davisan02\",\n",
    "    # \"hardeja01\",\n",
    "]"
   ]
  },
  {
   "cell_type": "code",
   "execution_count": null,
   "metadata": {},
   "outputs": [],
   "source": [
    "url_template = Template(\"https://www.basketball-reference.com/players/$first_initial/$player_additional.html\")\n",
    "print(f\"{url_template=}\")"
   ]
  },
  {
   "cell_type": "code",
   "execution_count": null,
   "metadata": {},
   "outputs": [],
   "source": [
    "player = \"jokicni01\""
   ]
  },
  {
   "cell_type": "code",
   "execution_count": null,
   "metadata": {},
   "outputs": [],
   "source": [
    "first_initial = player[0].lower()\n",
    "player_additional = player\n",
    "\n",
    "url = url_template.substitute(first_initial=first_initial, player_additional=player_additional)\n",
    "print(f\"{url=}\")"
   ]
  },
  {
   "cell_type": "code",
   "execution_count": null,
   "metadata": {},
   "outputs": [],
   "source": [
    "response = requests.get(url)"
   ]
  },
  {
   "cell_type": "code",
   "execution_count": null,
   "metadata": {},
   "outputs": [],
   "source": [
    "if response.status_code != 200:\n",
    "    pprint.pprint(response.__dict__)\n",
    "else:\n",
    "    print(f\"Successfully fetched {url}\")"
   ]
  },
  {
   "cell_type": "code",
   "execution_count": null,
   "metadata": {},
   "outputs": [],
   "source": [
    "soup = BeautifulSoup(response.content, \"html.parser\")"
   ]
  },
  {
   "cell_type": "code",
   "execution_count": null,
   "metadata": {},
   "outputs": [],
   "source": [
    "section = soup.find(id=\"meta\")\n",
    "if section:\n",
    "    print(\"Found section\")\n",
    "else:\n",
    "    print(\"Section with id=meta does not exist\")"
   ]
  },
  {
   "cell_type": "code",
   "execution_count": null,
   "metadata": {},
   "outputs": [],
   "source": [
    "paragraphs = section.find_all(\"p\")\n",
    "if paragraphs:\n",
    "    print(f\"Found {len(paragraphs)} paragraphs\")"
   ]
  },
  {
   "cell_type": "code",
   "execution_count": null,
   "metadata": {},
   "outputs": [],
   "source": [
    "subsection_targets = {\"Draft:\", \"NBA Debut:\", \"Experience:\"}"
   ]
  },
  {
   "cell_type": "code",
   "execution_count": null,
   "metadata": {},
   "outputs": [],
   "source": [
    "for paragraph in paragraphs:\n",
    "    # Find the strong element within the paragraph\n",
    "    strong_element = paragraph.find('strong')\n",
    "    if not strong_element:\n",
    "        continue\n",
    "\n",
    "    subsection = strong_element.text.strip()\n",
    "\n",
    "    if subsection not in subsection_targets:\n",
    "        continue\n",
    "\n",
    "    # text = re.sub(\"\\\\s+\", \" \", paragraph.get_text()).strip()\n",
    "    paragraph_text = re.sub(\"\\\\s+\", \" \", paragraph.text).strip()\n",
    "    if subsection == \"Draft:\":\n",
    "        pattern = r'\\((\\d+).*?,\\s*(\\d{4})'\n",
    "        print(f\"{paragraph_text=}\")\n",
    "\n",
    "        # Split the string by ','\n",
    "        print(paragraph_text.split(\",\"))\n",
    "        _, _, overall_pick, year = paragraph_text.split(',')\n",
    "\n",
    "        # Extracting the pick number and year\n",
    "        pick_number = re.search(r'\\d+', overall_pick).group()\n",
    "        year = year.strip()\n",
    "\n",
    "\n",
    "        print(\"Pick Number:\", pick_number)\n",
    "        print(\"Year:\", year)\n",
    "    elif subsection == \"NBA Debut:\":\n",
    "        _, debut_date = paragraph_text.split(\":\")\n",
    "        debut_date = debut_date.strip()\n",
    "        debut_date = datetime.datetime.strptime(debut_date, '%B %d, %Y')\n",
    "    elif subsection == \"Experience\":\n",
    "        num_years_exp = re.search(r'\\d+', paragraph_text).group()\n",
    "    print(paragraph_text)\n",
    "    print(\"**************************\")"
   ]
  },
  {
   "cell_type": "code",
   "execution_count": null,
   "metadata": {},
   "outputs": [],
   "source": [
    "from datetime import datetime\n",
    "\n",
    "# Sample string\n",
    "date_string = \"October 28, 2015\"\n",
    "\n",
    "# Parse the string into a datetime object\n",
    "datetime_object = datetime.strptime(date_string, '%B %d, %Y')\n",
    "\n",
    "print(\"Datetime object:\", datetime_object)"
   ]
  }
 ],
 "metadata": {
  "kernelspec": {
   "display_name": "nba_fantasy_12",
   "language": "python",
   "name": "python3"
  },
  "language_info": {
   "codemirror_mode": {
    "name": "ipython",
    "version": 3
   },
   "file_extension": ".py",
   "mimetype": "text/x-python",
   "name": "python",
   "nbconvert_exporter": "python",
   "pygments_lexer": "ipython3",
   "version": "3.12.1"
  }
 },
 "nbformat": 4,
 "nbformat_minor": 2
}

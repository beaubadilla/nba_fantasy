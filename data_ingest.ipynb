{
 "cells": [
  {
   "cell_type": "code",
   "execution_count": null,
   "metadata": {},
   "outputs": [],
   "source": [
    "# TODO: For season-wide stats, account for players that switch teams mid-season. Should be denoted as TOT in basketballreference"
   ]
  },
  {
   "cell_type": "code",
   "execution_count": null,
   "metadata": {},
   "outputs": [],
   "source": [
    "from bs4 import BeautifulSoup\n",
    "import pandas as pd\n",
    "import requests"
   ]
  },
  {
   "cell_type": "code",
   "execution_count": null,
   "metadata": {},
   "outputs": [],
   "source": [
    "pd.set_option(\"display.max_rows\", 999)"
   ]
  },
  {
   "cell_type": "code",
   "execution_count": null,
   "metadata": {},
   "outputs": [],
   "source": [
    "with open(\"player_names.txt\", \"r\") as f:\n",
    "    names = [name.strip() for name in f.readlines()]"
   ]
  },
  {
   "cell_type": "code",
   "execution_count": null,
   "metadata": {},
   "outputs": [],
   "source": [
    "# www.basketball-reference.com/players/c/curryst01.html\n",
    "# www.basketball-reference.com/players/<last initial>/<last name><first 2 letters of fn>01.html\n",
    "\n",
    "names_endpoint = []\n",
    "endpoint = \"https://www.basketball-reference.com/players\"\n",
    "for name in names:\n",
    "    fn, ln, *_ = name.split()\n",
    "    last_initial = ln[0].lower()\n",
    "    first_two_letters_fn = fn[:2].lower()\n",
    "    first_five_letters_ln = ln[:5].lower()\n",
    "\n",
    "    name_endpoint = f\"{endpoint}/{last_initial.lower()}/{first_five_letters_ln}{first_two_letters_fn}01.html\"\n",
    "    names_endpoint.append(name_endpoint)"
   ]
  },
  {
   "cell_type": "code",
   "execution_count": null,
   "metadata": {},
   "outputs": [],
   "source": [
    "resp = requests.get(\"https://www.basketball-reference.com/players/c/curryst01.html\")"
   ]
  },
  {
   "cell_type": "code",
   "execution_count": null,
   "metadata": {},
   "outputs": [],
   "source": [
    "soup = BeautifulSoup(resp.content, \"html.parser\")"
   ]
  },
  {
   "cell_type": "code",
   "execution_count": null,
   "metadata": {},
   "outputs": [],
   "source": [
    "per_game_tb = soup.find(\"table\", id=\"per_game\")"
   ]
  },
  {
   "cell_type": "code",
   "execution_count": null,
   "metadata": {},
   "outputs": [],
   "source": [
    "thead = per_game_tb.find(\"thead\")"
   ]
  },
  {
   "cell_type": "code",
   "execution_count": null,
   "metadata": {},
   "outputs": [],
   "source": [
    "cols = thead.findAll(\"th\")"
   ]
  },
  {
   "cell_type": "code",
   "execution_count": null,
   "metadata": {},
   "outputs": [],
   "source": [
    "for col in cols:\n",
    "    print(col.string)"
   ]
  },
  {
   "cell_type": "code",
   "execution_count": null,
   "metadata": {},
   "outputs": [],
   "source": [
    "tbody = per_game_tb.find(\"tbody\")\n",
    "seasons = tbody.findAll(\"tr\")\n",
    "for season in seasons:\n",
    "    print(season)"
   ]
  },
  {
   "cell_type": "code",
   "execution_count": null,
   "metadata": {},
   "outputs": [],
   "source": [
    "all_players_advanced_stats = pd.read_csv(\"2022_2023_all_players_advanced_stats.csv\")"
   ]
  },
  {
   "cell_type": "code",
   "execution_count": null,
   "metadata": {},
   "outputs": [],
   "source": [
    "option_on_team = all_players_advanced_stats.groupby('Tm').apply(lambda x: x.sort_values('USG%', ascending=False))\n",
    "display_ = option_on_team[[\"Tm\", \"Player\", \"USG%\"]]\n",
    "print(display_)"
   ]
  }
 ],
 "metadata": {
  "kernelspec": {
   "display_name": "Python 3",
   "language": "python",
   "name": "python3"
  },
  "language_info": {
   "codemirror_mode": {
    "name": "ipython",
    "version": 3
   },
   "file_extension": ".py",
   "mimetype": "text/x-python",
   "name": "python",
   "nbconvert_exporter": "python",
   "pygments_lexer": "ipython3",
   "version": "3.12.0"
  }
 },
 "nbformat": 4,
 "nbformat_minor": 2
}
